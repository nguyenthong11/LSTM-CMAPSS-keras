{
  "nbformat": 4,
  "nbformat_minor": 0,
  "metadata": {
    "colab": {
      "provenance": [],
      "authorship_tag": "ABX9TyMgjW9kX0C5FAjajO7EEbnO",
      "include_colab_link": true
    },
    "kernelspec": {
      "name": "python3",
      "display_name": "Python 3"
    },
    "language_info": {
      "name": "python"
    }
  },
  "cells": [
    {
      "cell_type": "markdown",
      "metadata": {
        "id": "view-in-github",
        "colab_type": "text"
      },
      "source": [
        "<a href=\"https://colab.research.google.com/github/nguyenthong11/LSTM-CMAPSS-keras/blob/main/RUL_CMAPSS.ipynb\" target=\"_parent\"><img src=\"https://colab.research.google.com/assets/colab-badge.svg\" alt=\"Open In Colab\"/></a>"
      ]
    },
    {
      "cell_type": "code",
      "execution_count": 41,
      "metadata": {
        "colab": {
          "base_uri": "https://localhost:8080/"
        },
        "id": "eGpTbutt_KWh",
        "outputId": "1cd86399-09f0-412a-961a-38849ec3bea1"
      },
      "outputs": [
        {
          "output_type": "stream",
          "name": "stdout",
          "text": [
            "Drive already mounted at /content/drive; to attempt to forcibly remount, call drive.mount(\"/content/drive\", force_remount=True).\n"
          ]
        }
      ],
      "source": [
        "from google.colab import drive\n",
        "drive.mount('/content/drive')\n",
        "import os\n",
        "os.chdir('/content/drive/MyDrive/Colab Notebooks/RUL_CMAPSS')"
      ]
    },
    {
      "cell_type": "code",
      "source": [
        "import pandas as pd\n",
        "import numpy as np\n",
        "import tensorflow as tf\n",
        "\n",
        "import keras\n",
        "from keras.models import Sequential\n",
        "from keras.layers import Dense, Dropout, LSTM, Activation\n",
        "from sklearn.preprocessing import StandardScaler\n",
        "\n",
        "import matplotlib.pyplot as plt"
      ],
      "metadata": {
        "id": "KRk4mvM5AJZL"
      },
      "execution_count": 42,
      "outputs": []
    },
    {
      "cell_type": "code",
      "source": [
        "# column names of CMAPSS Dataset\n",
        "columns = ['id', 'cycle', 'setting1', 'setting2', 'setting3']+[f's{i}' for i in range(1, 22)]\n",
        "\n",
        "feature_columns = ['setting1', 'setting2', 'setting3']+[f's{i}' for i in range(1, 22)] + ['cycle_norm']\n",
        "\n",
        "class CMAPSSDataset():\n",
        "    def __init__(self, fd_number, batch_size, sequence_length):\n",
        "      super(CMAPSSDataset).__init__()\n",
        "      self.batch_size = batch_size\n",
        "      self.sequence_length = sequence_length\n",
        "      self.train_data = None\n",
        "      self.test_data = None\n",
        "\n",
        "      # \\s+ one or more space\n",
        "      data = pd.read_csv(\"CMAPSSData/train_FD00\" + fd_number + \".txt\", delimiter=\"\\s+\", header=None)\n",
        "      data.columns = columns\n",
        "\n",
        "      self.engine_size = data['id'].max()\n",
        "\n",
        "      # Compute RUL with cycle\n",
        "      rul = pd.DataFrame(data.groupby('id')['cycle'].max()).reset_index()\n",
        "      rul.columns = ['id', 'max']\n",
        "      data = data.merge(rul, on=['id'], how='left')\n",
        "      data['RUL'] = data['max'] - data['cycle']\n",
        "      data.drop(['max'], axis=1, inplace=True)\n",
        "\n",
        "      # normalize to N(0,1)\n",
        "      self.std = StandardScaler()\n",
        "      data['cycle_norm'] = data['cycle']\n",
        "      cols_normalize = data.columns.difference(['id', 'cycle', 'RUL'])\n",
        "      norm_data = pd.DataFrame(self.std.fit_transform(data[cols_normalize]), columns=cols_normalize, index=data.index)\n",
        "      join_data = data[data.columns.difference(cols_normalize)].join(norm_data)\n",
        "      self.train_data = join_data.reindex(columns=data.columns)\n",
        "\n",
        "      # on test data\n",
        "      test_data = pd.read_csv(\"CMAPSSData/test_FD00\" + fd_number + \".txt\", delimiter=\"\\s+\", header=None)\n",
        "      test_data.columns = columns\n",
        "      truth_data = pd.read_csv(\"CMAPSSData/RUL_FD00\" + fd_number + \".txt\", delimiter=\"\\s+\", header=None)\n",
        "      truth_data.columns = ['truth']\n",
        "      truth_data['id'] = truth_data.index + 1\n",
        "\n",
        "      test_rul = pd.DataFrame(test_data.groupby('id')['cycle'].max()).reset_index()\n",
        "      test_rul.columns = ['id', 'elapsed']\n",
        "      test_rul = test_rul.merge(truth_data, on=['id'], how='left')\n",
        "      test_rul['max'] = test_rul['elapsed'] + test_rul['truth']\n",
        "\n",
        "      test_data = test_data.merge(test_rul, on=['id'], how='left')\n",
        "      test_data['RUL'] = test_data['max'] - test_data['cycle']\n",
        "      test_data.drop(['max'], axis=1, inplace=True)\n",
        "\n",
        "      test_data['cycle_norm'] = test_data['cycle']\n",
        "      norm_test_data = pd.DataFrame(self.std.fit_transform(test_data[cols_normalize]), columns=cols_normalize, index=test_data.index)\n",
        "      join_test_data = test_data[test_data.columns.difference(cols_normalize)].join(norm_test_data)\n",
        "      self.test_data = join_test_data.reindex(columns=test_data.columns)\n",
        "\n",
        "    def get_train_data(self):\n",
        "      return self.train_data\n",
        "\n",
        "    def get_test_data(self):\n",
        "      return self.test_data\n",
        "\n",
        "    def get_feature_slice(self, input_data):\n",
        "        # Reshape the data to (samples, features, time steps)\n",
        "      def reshapeFeatures(input, columns, sequence_length):\n",
        "        data = input[columns].values\n",
        "        num_elements = data.shape[0]\n",
        "        for start, stop in zip(range(0, num_elements-sequence_length), range(sequence_length, num_elements)):\n",
        "          yield(data[start:stop, :])\n",
        "\n",
        "      feature_list = [list(reshapeFeatures(input_data[input_data['id'] == i], feature_columns, self.sequence_length))\n",
        "                      for i in range(1, self.engine_size + 1) if len(input_data[input_data['id']  == i]) > self.sequence_length]\n",
        "      feature_array = np.concatenate(list(feature_list), axis=0).astype(np.float32)\n",
        "      length = len(feature_array) // self.batch_size\n",
        "      return feature_array[:length*self.batch_size]\n",
        "\n",
        "    def get_label_slice(self, input_data):\n",
        "      def reshapeLabels(input, sequence_length, columns=['RUL']):\n",
        "        data = input[columns].values\n",
        "        num_elements = data.shape[0]\n",
        "        return(data[sequence_length:num_elements, :])\n",
        "\n",
        "      label_list = [reshapeLabels(input_data[input_data['id'] == i], self.sequence_length)\n",
        "            for i in range(1, self.engine_size+1)]\n",
        "      label_array = np.concatenate(label_list).astype(np.float32)\n",
        "      length = len(label_array) // self.batch_size\n",
        "      return label_array[:length*self.batch_size]\n",
        "\n",
        "\n",
        "    def get_last_data_slice(self, input_data):\n",
        "      num_engine = input_data['id'].unique().max()\n",
        "      test_feature_list = [input_data[input_data['id'] == i][feature_columns].values[-self.sequence_length:]\n",
        "                            for i in range(1, num_engine+1) if len(input_data[input_data['id']  == i]) >= self.sequence_length]\n",
        "      test_feature_array = np.asarray(test_feature_list).astype(np.float32)\n",
        "      length_test = len(test_feature_array) // self.batch_size\n",
        "\n",
        "      test_rul_list = [input_data[input_data['id'] == i]['RUL'].values[-1:]\n",
        "                          for i in range(1, num_engine+1) if len(input_data[input_data['id'] == i]) >= self.sequence_length]\n",
        "      test_rul_array = np.asarray(test_rul_list).astype(np.float32)\n",
        "      length_rul = len(test_rul_array) // self.batch_size\n",
        "\n",
        "      return test_feature_array[:length_test*self.batch_size], test_rul_array[:length_rul*self.batch_size]\n",
        ""
      ],
      "metadata": {
        "id": "vl0j4PZeacwz"
      },
      "execution_count": 43,
      "outputs": []
    },
    {
      "cell_type": "code",
      "source": [
        "sequence_length=32\n",
        "batch_size=32\n",
        "epochs=1000\n",
        "N = '4'\n",
        "\n",
        "datasets = CMAPSSDataset(fd_number=N, batch_size=batch_size, sequence_length=sequence_length)\n",
        "\n",
        "train_data = datasets.get_train_data()\n",
        "train_feature_slice = datasets.get_feature_slice(train_data)\n",
        "train_rul_slice = datasets.get_label_slice(train_data)\n",
        "print(\"train_data.shape: {}\".format(train_data.shape))\n",
        "print(\"train_feature_slice.shape: {}\".format(train_feature_slice.shape))\n",
        "print(\"train_rul_slice.shape: {}\".format(train_rul_slice.shape))\n",
        "\n",
        "test_data = datasets.get_test_data()\n",
        "test_feature_slice, test_rul_slice = datasets.get_last_data_slice(test_data)\n",
        "print(\"test_data.shape: {}\".format(test_data.shape))\n",
        "print(\"test_feature_slice.shape: {}\".format(test_feature_slice.shape))\n",
        "print(\"test_rul_slice.shape: {}\".format(test_rul_slice.shape))\n",
        "\n",
        "timesteps = train_feature_slice.shape[1]\n",
        "nb_features = train_feature_slice.shape[2]"
      ],
      "metadata": {
        "colab": {
          "base_uri": "https://localhost:8080/"
        },
        "id": "ppmvH6cf5kAJ",
        "outputId": "d933a6cf-a171-4833-d204-10a93b11bfc3"
      },
      "execution_count": 44,
      "outputs": [
        {
          "output_type": "stream",
          "name": "stdout",
          "text": [
            "train_data.shape: (61249, 28)\n",
            "train_feature_slice.shape: (53280, 32, 25)\n",
            "train_rul_slice.shape: (53280, 1)\n",
            "test_data.shape: (41214, 30)\n",
            "test_feature_slice.shape: (224, 32, 25)\n",
            "test_rul_slice.shape: (224, 1)\n"
          ]
        }
      ]
    },
    {
      "cell_type": "code",
      "source": [
        "model = Sequential()\n",
        "model.add(LSTM(input_shape=(timesteps, nb_features), units=32, return_sequences=True, name=\"lstm_0\"))\n",
        "model.add(Dropout(0.2, name=\"dropout_0\"))\n",
        "model.add(LSTM(units=64, return_sequences=False, name=\"lstm_1\"))\n",
        "model.add(Dropout(0.2, name=\"dropout_1\"))\n",
        "# model.add(LSTM(units=25, return_sequences=False, name=\"lstm_2\"))\n",
        "# model.add(Dropout(0.2, name=\"dropout_2\"))\n",
        "model.add(Dense(units=16, name=\"dense_0\"))\n",
        "model.add(Activation(\"relu\", name=\"activation_0\"))\n",
        "model.add(Dropout(0.2, name=\"dropout_2\"))\n",
        "model.add(Dense(units=16, name=\"dense_1\"))\n",
        "model.add(Activation(\"relu\", name=\"activation_1\"))\n",
        "model.add(Dropout(0.2, name=\"dropout_3\"))\n",
        "model.add(Dense(units=1, name=\"dense_2\"))\n",
        "model.add(Activation(\"linear\", name=\"activation_2\"))\n",
        "model.compile(loss='mse', optimizer='rmsprop', metrics=['mae'])\n",
        "print(model.summary())"
      ],
      "metadata": {
        "colab": {
          "base_uri": "https://localhost:8080/",
          "height": 585
        },
        "id": "20k9L68s_nWU",
        "outputId": "99f8e5ed-247d-4ee9-bb83-c6d1c9252b77"
      },
      "execution_count": 46,
      "outputs": [
        {
          "output_type": "stream",
          "name": "stderr",
          "text": [
            "/usr/local/lib/python3.10/dist-packages/keras/src/layers/rnn/rnn.py:204: UserWarning: Do not pass an `input_shape`/`input_dim` argument to a layer. When using Sequential models, prefer using an `Input(shape)` object as the first layer in the model instead.\n",
            "  super().__init__(**kwargs)\n"
          ]
        },
        {
          "output_type": "display_data",
          "data": {
            "text/plain": [
              "\u001b[1mModel: \"sequential_8\"\u001b[0m\n"
            ],
            "text/html": [
              "<pre style=\"white-space:pre;overflow-x:auto;line-height:normal;font-family:Menlo,'DejaVu Sans Mono',consolas,'Courier New',monospace\"><span style=\"font-weight: bold\">Model: \"sequential_8\"</span>\n",
              "</pre>\n"
            ]
          },
          "metadata": {}
        },
        {
          "output_type": "display_data",
          "data": {
            "text/plain": [
              "┏━━━━━━━━━━━━━━━━━━━━━━━━━━━━━━━━━━━━━━┳━━━━━━━━━━━━━━━━━━━━━━━━━━━━━┳━━━━━━━━━━━━━━━━━┓\n",
              "┃\u001b[1m \u001b[0m\u001b[1mLayer (type)                        \u001b[0m\u001b[1m \u001b[0m┃\u001b[1m \u001b[0m\u001b[1mOutput Shape               \u001b[0m\u001b[1m \u001b[0m┃\u001b[1m \u001b[0m\u001b[1m        Param #\u001b[0m\u001b[1m \u001b[0m┃\n",
              "┡━━━━━━━━━━━━━━━━━━━━━━━━━━━━━━━━━━━━━━╇━━━━━━━━━━━━━━━━━━━━━━━━━━━━━╇━━━━━━━━━━━━━━━━━┩\n",
              "│ lstm_0 (\u001b[38;5;33mLSTM\u001b[0m)                        │ (\u001b[38;5;45mNone\u001b[0m, \u001b[38;5;34m32\u001b[0m, \u001b[38;5;34m32\u001b[0m)              │           \u001b[38;5;34m7,424\u001b[0m │\n",
              "├──────────────────────────────────────┼─────────────────────────────┼─────────────────┤\n",
              "│ dropout_0 (\u001b[38;5;33mDropout\u001b[0m)                  │ (\u001b[38;5;45mNone\u001b[0m, \u001b[38;5;34m32\u001b[0m, \u001b[38;5;34m32\u001b[0m)              │               \u001b[38;5;34m0\u001b[0m │\n",
              "├──────────────────────────────────────┼─────────────────────────────┼─────────────────┤\n",
              "│ lstm_1 (\u001b[38;5;33mLSTM\u001b[0m)                        │ (\u001b[38;5;45mNone\u001b[0m, \u001b[38;5;34m64\u001b[0m)                  │          \u001b[38;5;34m24,832\u001b[0m │\n",
              "├──────────────────────────────────────┼─────────────────────────────┼─────────────────┤\n",
              "│ dropout_1 (\u001b[38;5;33mDropout\u001b[0m)                  │ (\u001b[38;5;45mNone\u001b[0m, \u001b[38;5;34m64\u001b[0m)                  │               \u001b[38;5;34m0\u001b[0m │\n",
              "├──────────────────────────────────────┼─────────────────────────────┼─────────────────┤\n",
              "│ dense_0 (\u001b[38;5;33mDense\u001b[0m)                      │ (\u001b[38;5;45mNone\u001b[0m, \u001b[38;5;34m16\u001b[0m)                  │           \u001b[38;5;34m1,040\u001b[0m │\n",
              "├──────────────────────────────────────┼─────────────────────────────┼─────────────────┤\n",
              "│ activation_0 (\u001b[38;5;33mActivation\u001b[0m)            │ (\u001b[38;5;45mNone\u001b[0m, \u001b[38;5;34m16\u001b[0m)                  │               \u001b[38;5;34m0\u001b[0m │\n",
              "├──────────────────────────────────────┼─────────────────────────────┼─────────────────┤\n",
              "│ dropout_2 (\u001b[38;5;33mDropout\u001b[0m)                  │ (\u001b[38;5;45mNone\u001b[0m, \u001b[38;5;34m16\u001b[0m)                  │               \u001b[38;5;34m0\u001b[0m │\n",
              "├──────────────────────────────────────┼─────────────────────────────┼─────────────────┤\n",
              "│ dense_1 (\u001b[38;5;33mDense\u001b[0m)                      │ (\u001b[38;5;45mNone\u001b[0m, \u001b[38;5;34m16\u001b[0m)                  │             \u001b[38;5;34m272\u001b[0m │\n",
              "├──────────────────────────────────────┼─────────────────────────────┼─────────────────┤\n",
              "│ activation_1 (\u001b[38;5;33mActivation\u001b[0m)            │ (\u001b[38;5;45mNone\u001b[0m, \u001b[38;5;34m16\u001b[0m)                  │               \u001b[38;5;34m0\u001b[0m │\n",
              "├──────────────────────────────────────┼─────────────────────────────┼─────────────────┤\n",
              "│ dropout_3 (\u001b[38;5;33mDropout\u001b[0m)                  │ (\u001b[38;5;45mNone\u001b[0m, \u001b[38;5;34m16\u001b[0m)                  │               \u001b[38;5;34m0\u001b[0m │\n",
              "├──────────────────────────────────────┼─────────────────────────────┼─────────────────┤\n",
              "│ dense_2 (\u001b[38;5;33mDense\u001b[0m)                      │ (\u001b[38;5;45mNone\u001b[0m, \u001b[38;5;34m1\u001b[0m)                   │              \u001b[38;5;34m17\u001b[0m │\n",
              "├──────────────────────────────────────┼─────────────────────────────┼─────────────────┤\n",
              "│ activation_2 (\u001b[38;5;33mActivation\u001b[0m)            │ (\u001b[38;5;45mNone\u001b[0m, \u001b[38;5;34m1\u001b[0m)                   │               \u001b[38;5;34m0\u001b[0m │\n",
              "└──────────────────────────────────────┴─────────────────────────────┴─────────────────┘\n"
            ],
            "text/html": [
              "<pre style=\"white-space:pre;overflow-x:auto;line-height:normal;font-family:Menlo,'DejaVu Sans Mono',consolas,'Courier New',monospace\">┏━━━━━━━━━━━━━━━━━━━━━━━━━━━━━━━━━━━━━━┳━━━━━━━━━━━━━━━━━━━━━━━━━━━━━┳━━━━━━━━━━━━━━━━━┓\n",
              "┃<span style=\"font-weight: bold\"> Layer (type)                         </span>┃<span style=\"font-weight: bold\"> Output Shape                </span>┃<span style=\"font-weight: bold\">         Param # </span>┃\n",
              "┡━━━━━━━━━━━━━━━━━━━━━━━━━━━━━━━━━━━━━━╇━━━━━━━━━━━━━━━━━━━━━━━━━━━━━╇━━━━━━━━━━━━━━━━━┩\n",
              "│ lstm_0 (<span style=\"color: #0087ff; text-decoration-color: #0087ff\">LSTM</span>)                        │ (<span style=\"color: #00d7ff; text-decoration-color: #00d7ff\">None</span>, <span style=\"color: #00af00; text-decoration-color: #00af00\">32</span>, <span style=\"color: #00af00; text-decoration-color: #00af00\">32</span>)              │           <span style=\"color: #00af00; text-decoration-color: #00af00\">7,424</span> │\n",
              "├──────────────────────────────────────┼─────────────────────────────┼─────────────────┤\n",
              "│ dropout_0 (<span style=\"color: #0087ff; text-decoration-color: #0087ff\">Dropout</span>)                  │ (<span style=\"color: #00d7ff; text-decoration-color: #00d7ff\">None</span>, <span style=\"color: #00af00; text-decoration-color: #00af00\">32</span>, <span style=\"color: #00af00; text-decoration-color: #00af00\">32</span>)              │               <span style=\"color: #00af00; text-decoration-color: #00af00\">0</span> │\n",
              "├──────────────────────────────────────┼─────────────────────────────┼─────────────────┤\n",
              "│ lstm_1 (<span style=\"color: #0087ff; text-decoration-color: #0087ff\">LSTM</span>)                        │ (<span style=\"color: #00d7ff; text-decoration-color: #00d7ff\">None</span>, <span style=\"color: #00af00; text-decoration-color: #00af00\">64</span>)                  │          <span style=\"color: #00af00; text-decoration-color: #00af00\">24,832</span> │\n",
              "├──────────────────────────────────────┼─────────────────────────────┼─────────────────┤\n",
              "│ dropout_1 (<span style=\"color: #0087ff; text-decoration-color: #0087ff\">Dropout</span>)                  │ (<span style=\"color: #00d7ff; text-decoration-color: #00d7ff\">None</span>, <span style=\"color: #00af00; text-decoration-color: #00af00\">64</span>)                  │               <span style=\"color: #00af00; text-decoration-color: #00af00\">0</span> │\n",
              "├──────────────────────────────────────┼─────────────────────────────┼─────────────────┤\n",
              "│ dense_0 (<span style=\"color: #0087ff; text-decoration-color: #0087ff\">Dense</span>)                      │ (<span style=\"color: #00d7ff; text-decoration-color: #00d7ff\">None</span>, <span style=\"color: #00af00; text-decoration-color: #00af00\">16</span>)                  │           <span style=\"color: #00af00; text-decoration-color: #00af00\">1,040</span> │\n",
              "├──────────────────────────────────────┼─────────────────────────────┼─────────────────┤\n",
              "│ activation_0 (<span style=\"color: #0087ff; text-decoration-color: #0087ff\">Activation</span>)            │ (<span style=\"color: #00d7ff; text-decoration-color: #00d7ff\">None</span>, <span style=\"color: #00af00; text-decoration-color: #00af00\">16</span>)                  │               <span style=\"color: #00af00; text-decoration-color: #00af00\">0</span> │\n",
              "├──────────────────────────────────────┼─────────────────────────────┼─────────────────┤\n",
              "│ dropout_2 (<span style=\"color: #0087ff; text-decoration-color: #0087ff\">Dropout</span>)                  │ (<span style=\"color: #00d7ff; text-decoration-color: #00d7ff\">None</span>, <span style=\"color: #00af00; text-decoration-color: #00af00\">16</span>)                  │               <span style=\"color: #00af00; text-decoration-color: #00af00\">0</span> │\n",
              "├──────────────────────────────────────┼─────────────────────────────┼─────────────────┤\n",
              "│ dense_1 (<span style=\"color: #0087ff; text-decoration-color: #0087ff\">Dense</span>)                      │ (<span style=\"color: #00d7ff; text-decoration-color: #00d7ff\">None</span>, <span style=\"color: #00af00; text-decoration-color: #00af00\">16</span>)                  │             <span style=\"color: #00af00; text-decoration-color: #00af00\">272</span> │\n",
              "├──────────────────────────────────────┼─────────────────────────────┼─────────────────┤\n",
              "│ activation_1 (<span style=\"color: #0087ff; text-decoration-color: #0087ff\">Activation</span>)            │ (<span style=\"color: #00d7ff; text-decoration-color: #00d7ff\">None</span>, <span style=\"color: #00af00; text-decoration-color: #00af00\">16</span>)                  │               <span style=\"color: #00af00; text-decoration-color: #00af00\">0</span> │\n",
              "├──────────────────────────────────────┼─────────────────────────────┼─────────────────┤\n",
              "│ dropout_3 (<span style=\"color: #0087ff; text-decoration-color: #0087ff\">Dropout</span>)                  │ (<span style=\"color: #00d7ff; text-decoration-color: #00d7ff\">None</span>, <span style=\"color: #00af00; text-decoration-color: #00af00\">16</span>)                  │               <span style=\"color: #00af00; text-decoration-color: #00af00\">0</span> │\n",
              "├──────────────────────────────────────┼─────────────────────────────┼─────────────────┤\n",
              "│ dense_2 (<span style=\"color: #0087ff; text-decoration-color: #0087ff\">Dense</span>)                      │ (<span style=\"color: #00d7ff; text-decoration-color: #00d7ff\">None</span>, <span style=\"color: #00af00; text-decoration-color: #00af00\">1</span>)                   │              <span style=\"color: #00af00; text-decoration-color: #00af00\">17</span> │\n",
              "├──────────────────────────────────────┼─────────────────────────────┼─────────────────┤\n",
              "│ activation_2 (<span style=\"color: #0087ff; text-decoration-color: #0087ff\">Activation</span>)            │ (<span style=\"color: #00d7ff; text-decoration-color: #00d7ff\">None</span>, <span style=\"color: #00af00; text-decoration-color: #00af00\">1</span>)                   │               <span style=\"color: #00af00; text-decoration-color: #00af00\">0</span> │\n",
              "└──────────────────────────────────────┴─────────────────────────────┴─────────────────┘\n",
              "</pre>\n"
            ]
          },
          "metadata": {}
        },
        {
          "output_type": "display_data",
          "data": {
            "text/plain": [
              "\u001b[1m Total params: \u001b[0m\u001b[38;5;34m33,585\u001b[0m (131.19 KB)\n"
            ],
            "text/html": [
              "<pre style=\"white-space:pre;overflow-x:auto;line-height:normal;font-family:Menlo,'DejaVu Sans Mono',consolas,'Courier New',monospace\"><span style=\"font-weight: bold\"> Total params: </span><span style=\"color: #00af00; text-decoration-color: #00af00\">33,585</span> (131.19 KB)\n",
              "</pre>\n"
            ]
          },
          "metadata": {}
        },
        {
          "output_type": "display_data",
          "data": {
            "text/plain": [
              "\u001b[1m Trainable params: \u001b[0m\u001b[38;5;34m33,585\u001b[0m (131.19 KB)\n"
            ],
            "text/html": [
              "<pre style=\"white-space:pre;overflow-x:auto;line-height:normal;font-family:Menlo,'DejaVu Sans Mono',consolas,'Courier New',monospace\"><span style=\"font-weight: bold\"> Trainable params: </span><span style=\"color: #00af00; text-decoration-color: #00af00\">33,585</span> (131.19 KB)\n",
              "</pre>\n"
            ]
          },
          "metadata": {}
        },
        {
          "output_type": "display_data",
          "data": {
            "text/plain": [
              "\u001b[1m Non-trainable params: \u001b[0m\u001b[38;5;34m0\u001b[0m (0.00 B)\n"
            ],
            "text/html": [
              "<pre style=\"white-space:pre;overflow-x:auto;line-height:normal;font-family:Menlo,'DejaVu Sans Mono',consolas,'Courier New',monospace\"><span style=\"font-weight: bold\"> Non-trainable params: </span><span style=\"color: #00af00; text-decoration-color: #00af00\">0</span> (0.00 B)\n",
              "</pre>\n"
            ]
          },
          "metadata": {}
        },
        {
          "output_type": "stream",
          "name": "stdout",
          "text": [
            "None\n"
          ]
        }
      ]
    },
    {
      "cell_type": "code",
      "source": [
        "# log_filepath = \"tensorboard-logs\"\n",
        "# tb_cb = tf.keras.callbacks.TensorBoard(log_dir=log_filepath, write_images=1, histogram_freq=1)\n",
        "es_cb = tf.keras.callbacks.EarlyStopping(monitor='val_loss', min_delta=0.0, patience=10, verbose=0, mode='auto')\n",
        "\n",
        "# es_cb = keras.callbacks.EarlyStopping(monitor='val_loss', min_delta=0, patience=10, verbose=0, mode='min')\n",
        "# tb_cb = keras.callbacks.ModelCheckpoint(weights_save_path, monitor='val_loss', save_best_only=True, mode='min', verbose=0)"
      ],
      "metadata": {
        "id": "m1bWH5IbFnJA"
      },
      "execution_count": 45,
      "outputs": []
    },
    {
      "cell_type": "code",
      "source": [
        "history = model.fit(train_feature_slice, train_rul_slice,\n",
        "            batch_size = batch_size,\n",
        "            epochs = epochs,\n",
        "            validation_split=0.05,\n",
        "            verbose = 2,\n",
        "            callbacks = [es_cb])"
      ],
      "metadata": {
        "colab": {
          "base_uri": "https://localhost:8080/"
        },
        "id": "EcL9MldWbzq6",
        "outputId": "f1bd6ca1-5b21-4532-d02e-f8922d0bb3a7"
      },
      "execution_count": 47,
      "outputs": [
        {
          "output_type": "stream",
          "name": "stdout",
          "text": [
            "Epoch 1/1000\n",
            "1582/1582 - 61s - 38ms/step - loss: 5179.9600 - mae: 50.7949 - val_loss: 2686.5034 - val_mae: 42.6051\n",
            "Epoch 2/1000\n",
            "1582/1582 - 75s - 47ms/step - loss: 3423.4275 - mae: 41.2633 - val_loss: 2335.4060 - val_mae: 37.1617\n",
            "Epoch 3/1000\n",
            "1582/1582 - 83s - 52ms/step - loss: 3215.2615 - mae: 39.8594 - val_loss: 2385.6064 - val_mae: 38.2056\n",
            "Epoch 4/1000\n",
            "1582/1582 - 81s - 51ms/step - loss: 3137.6626 - mae: 39.2153 - val_loss: 2179.6494 - val_mae: 36.2301\n",
            "Epoch 5/1000\n",
            "1582/1582 - 49s - 31ms/step - loss: 2999.1853 - mae: 38.2111 - val_loss: 2381.4155 - val_mae: 38.7584\n",
            "Epoch 6/1000\n",
            "1582/1582 - 82s - 52ms/step - loss: 2914.9941 - mae: 37.5474 - val_loss: 2518.4541 - val_mae: 38.0267\n",
            "Epoch 7/1000\n",
            "1582/1582 - 81s - 51ms/step - loss: 2797.1819 - mae: 36.9300 - val_loss: 2547.0256 - val_mae: 36.9344\n",
            "Epoch 8/1000\n",
            "1582/1582 - 51s - 32ms/step - loss: 2678.4631 - mae: 36.1821 - val_loss: 2213.5869 - val_mae: 35.2606\n",
            "Epoch 9/1000\n",
            "1582/1582 - 48s - 30ms/step - loss: 2564.2556 - mae: 35.3795 - val_loss: 2343.8684 - val_mae: 36.1798\n",
            "Epoch 10/1000\n",
            "1582/1582 - 82s - 52ms/step - loss: 2424.5608 - mae: 34.5037 - val_loss: 2499.1699 - val_mae: 35.9958\n",
            "Epoch 11/1000\n",
            "1582/1582 - 82s - 52ms/step - loss: 2340.4956 - mae: 33.8995 - val_loss: 2287.8521 - val_mae: 35.0077\n",
            "Epoch 12/1000\n",
            "1582/1582 - 48s - 31ms/step - loss: 2217.0615 - mae: 33.0109 - val_loss: 3807.7988 - val_mae: 41.1995\n",
            "Epoch 13/1000\n",
            "1582/1582 - 81s - 51ms/step - loss: 2132.7000 - mae: 32.5066 - val_loss: 2848.3342 - val_mae: 37.9861\n",
            "Epoch 14/1000\n",
            "1582/1582 - 82s - 52ms/step - loss: 2028.9373 - mae: 31.6882 - val_loss: 2509.7505 - val_mae: 36.2276\n"
          ]
        }
      ]
    },
    {
      "cell_type": "code",
      "source": [
        "weights_save_path = 'vanilla-lstm-cmapss-weights_v0.keras'\n",
        "model.save(weights_save_path)"
      ],
      "metadata": {
        "id": "9rVJ7mnjHLhn"
      },
      "execution_count": 34,
      "outputs": []
    },
    {
      "cell_type": "code",
      "source": [
        "model = keras.saving.load_model(weights_save_path, custom_objects=None, compile=True, safe_mode=True)"
      ],
      "metadata": {
        "id": "rkKeuab6MK8z"
      },
      "execution_count": 7,
      "outputs": []
    },
    {
      "cell_type": "code",
      "source": [
        "y_pred = model.predict(test_feature_slice)\n",
        "y_truth = test_rul_slice"
      ],
      "metadata": {
        "colab": {
          "base_uri": "https://localhost:8080/"
        },
        "id": "xQQR9FBSjS3Z",
        "outputId": "d7c687c8-5ea8-4687-9e7e-b1ba8a84fd0a"
      },
      "execution_count": 48,
      "outputs": [
        {
          "output_type": "stream",
          "name": "stdout",
          "text": [
            "\u001b[1m7/7\u001b[0m \u001b[32m━━━━━━━━━━━━━━━━━━━━\u001b[0m\u001b[37m\u001b[0m \u001b[1m0s\u001b[0m 11ms/step\n"
          ]
        }
      ]
    },
    {
      "cell_type": "code",
      "source": [
        "from sklearn.metrics import mean_squared_error as mse\n",
        "mse(y_pred, y_truth, squared=False)"
      ],
      "metadata": {
        "colab": {
          "base_uri": "https://localhost:8080/"
        },
        "id": "pQlXSbY8kmIU",
        "outputId": "7520f99a-b6e7-4f85-ecc0-2acb46b2472d"
      },
      "execution_count": 49,
      "outputs": [
        {
          "output_type": "execute_result",
          "data": {
            "text/plain": [
              "38.792118"
            ]
          },
          "metadata": {},
          "execution_count": 49
        }
      ]
    },
    {
      "cell_type": "code",
      "source": [],
      "metadata": {
        "id": "D0R0wvGsrh2d"
      },
      "execution_count": null,
      "outputs": []
    }
  ]
}