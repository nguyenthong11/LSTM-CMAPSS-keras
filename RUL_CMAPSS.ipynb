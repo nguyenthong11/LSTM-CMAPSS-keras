{
  "nbformat": 4,
  "nbformat_minor": 0,
  "metadata": {
    "colab": {
      "provenance": [],
      "authorship_tag": "ABX9TyP/lVD6bBdB0jSp/C3bgzSq",
      "include_colab_link": true
    },
    "kernelspec": {
      "name": "python3",
      "display_name": "Python 3"
    },
    "language_info": {
      "name": "python"
    }
  },
  "cells": [
    {
      "cell_type": "markdown",
      "metadata": {
        "id": "view-in-github",
        "colab_type": "text"
      },
      "source": [
        "<a href=\"https://colab.research.google.com/github/nguyenthong11/LSTM-CMAPSS-keras/blob/main/RUL_CMAPSS.ipynb\" target=\"_parent\"><img src=\"https://colab.research.google.com/assets/colab-badge.svg\" alt=\"Open In Colab\"/></a>"
      ]
    },
    {
      "cell_type": "code",
      "execution_count": 1,
      "metadata": {
        "colab": {
          "base_uri": "https://localhost:8080/"
        },
        "id": "eGpTbutt_KWh",
        "outputId": "43b20219-8a3b-4867-b7a8-0dc0a55cf5d8"
      },
      "outputs": [
        {
          "output_type": "stream",
          "name": "stdout",
          "text": [
            "Mounted at /content/drive\n"
          ]
        }
      ],
      "source": [
        "from google.colab import drive\n",
        "drive.mount('/content/drive')\n",
        "import os\n",
        "os.chdir('/content/drive/MyDrive/Colab Notebooks/RUL_CMAPSS')"
      ]
    },
    {
      "cell_type": "code",
      "source": [
        "import pandas as pd\n",
        "import numpy as np\n",
        "import tensorflow as tf\n",
        "\n",
        "import keras\n",
        "from keras.models import Sequential\n",
        "from keras.layers import Dense, Dropout, LSTM, Activation\n",
        "from sklearn.preprocessing import StandardScaler\n",
        "\n",
        "import matplotlib.pyplot as plt"
      ],
      "metadata": {
        "id": "KRk4mvM5AJZL"
      },
      "execution_count": 2,
      "outputs": []
    },
    {
      "cell_type": "code",
      "source": [
        "# column names of CMAPSS Dataset\n",
        "columns = ['id', 'cycle', 'setting1', 'setting2', 'setting3']+[f's{i}' for i in range(1, 22)]\n",
        "\n",
        "feature_columns = ['setting1', 'setting2', 'setting3']+[f's{i}' for i in range(1, 22)] + ['cycle_norm']\n",
        "\n",
        "class CMAPSSDataset():\n",
        "    def __init__(self, fd_number, batch_size, sequence_length):\n",
        "      super(CMAPSSDataset).__init__()\n",
        "      self.batch_size = batch_size\n",
        "      self.sequence_length = sequence_length\n",
        "      self.train_data = None\n",
        "      self.test_data = None\n",
        "\n",
        "      # \\s+ one or more space\n",
        "      data = pd.read_csv(\"CMAPSSData/train_FD00\" + fd_number + \".txt\", delimiter=\"\\s+\", header=None)\n",
        "      data.columns = columns\n",
        "\n",
        "      self.engine_size = data['id'].max()\n",
        "\n",
        "      # Compute RUL with cycle\n",
        "      rul = pd.DataFrame(data.groupby('id')['cycle'].max()).reset_index()\n",
        "      rul.columns = ['id', 'max']\n",
        "      data = data.merge(rul, on=['id'], how='left')\n",
        "      data['RUL'] = data['max'] - data['cycle']\n",
        "      data.drop(['max'], axis=1, inplace=True)\n",
        "\n",
        "      # normalize to N(0,1)\n",
        "      self.std = StandardScaler()\n",
        "      data['cycle_norm'] = data['cycle']\n",
        "      cols_normalize = data.columns.difference(['id', 'cycle', 'RUL'])\n",
        "      norm_data = pd.DataFrame(self.std.fit_transform(data[cols_normalize]), columns=cols_normalize, index=data.index)\n",
        "      join_data = data[data.columns.difference(cols_normalize)].join(norm_data)\n",
        "      self.train_data = join_data.reindex(columns=data.columns)\n",
        "\n",
        "      # on test data\n",
        "      test_data = pd.read_csv(\"CMAPSSData/test_FD00\" + fd_number + \".txt\", delimiter=\"\\s+\", header=None)\n",
        "      test_data.columns = columns\n",
        "      truth_data = pd.read_csv(\"CMAPSSData/RUL_FD00\" + fd_number + \".txt\", delimiter=\"\\s+\", header=None)\n",
        "      truth_data.columns = ['truth']\n",
        "      truth_data['id'] = truth_data.index + 1\n",
        "\n",
        "      test_rul = pd.DataFrame(test_data.groupby('id')['cycle'].max()).reset_index()\n",
        "      test_rul.columns = ['id', 'elapsed']\n",
        "      test_rul = test_rul.merge(truth_data, on=['id'], how='left')\n",
        "      test_rul['max'] = test_rul['elapsed'] + test_rul['truth']\n",
        "\n",
        "      test_data = test_data.merge(test_rul, on=['id'], how='left')\n",
        "      test_data['RUL'] = test_data['max'] - test_data['cycle']\n",
        "      test_data.drop(['max'], axis=1, inplace=True)\n",
        "\n",
        "      test_data['cycle_norm'] = test_data['cycle']\n",
        "      norm_test_data = pd.DataFrame(self.std.fit_transform(test_data[cols_normalize]), columns=cols_normalize, index=test_data.index)\n",
        "      join_test_data = test_data[test_data.columns.difference(cols_normalize)].join(norm_test_data)\n",
        "      self.test_data = join_test_data.reindex(columns=test_data.columns)\n",
        "\n",
        "    def get_train_data(self):\n",
        "      return self.train_data\n",
        "\n",
        "    def get_test_data(self):\n",
        "      return self.test_data\n",
        "\n",
        "    def get_feature_slice(self, input_data):\n",
        "        # Reshape the data to (samples, features, time steps)\n",
        "      def reshapeFeatures(input, columns, sequence_length):\n",
        "        data = input[columns].values\n",
        "        num_elements = data.shape[0]\n",
        "        for start, stop in zip(range(0, num_elements-sequence_length), range(sequence_length, num_elements)):\n",
        "          yield(data[start:stop, :])\n",
        "\n",
        "      feature_list = [list(reshapeFeatures(input_data[input_data['id'] == i], feature_columns, self.sequence_length))\n",
        "                      for i in range(1, self.engine_size + 1) if len(input_data[input_data['id']  == i]) > self.sequence_length]\n",
        "      feature_array = np.concatenate(list(feature_list), axis=0).astype(np.float32)\n",
        "      length = len(feature_array) // self.batch_size\n",
        "      return feature_array[:length*self.batch_size]\n",
        "\n",
        "    def get_label_slice(self, input_data):\n",
        "      def reshapeLabels(input, sequence_length, columns=['RUL']):\n",
        "        data = input[columns].values\n",
        "        num_elements = data.shape[0]\n",
        "        return(data[sequence_length:num_elements, :])\n",
        "\n",
        "      label_list = [reshapeLabels(input_data[input_data['id'] == i], self.sequence_length)\n",
        "            for i in range(1, self.engine_size+1)]\n",
        "      label_array = np.concatenate(label_list).astype(np.float32)\n",
        "      length = len(label_array) // self.batch_size\n",
        "      return label_array[:length*self.batch_size]\n",
        "\n",
        "\n",
        "    def get_last_data_slice(self, input_data):\n",
        "      num_engine = input_data['id'].unique().max()\n",
        "      test_feature_list = [input_data[input_data['id'] == i][feature_columns].values[-self.sequence_length:]\n",
        "                            for i in range(1, num_engine+1) if len(input_data[input_data['id']  == i]) >= self.sequence_length]\n",
        "      test_feature_array = np.asarray(test_feature_list).astype(np.float32)\n",
        "      length_test = len(test_feature_array) // self.batch_size\n",
        "\n",
        "      test_rul_list = [input_data[input_data['id'] == i]['RUL'].values[-1:]\n",
        "                          for i in range(1, num_engine+1) if len(input_data[input_data['id'] == i]) >= self.sequence_length]\n",
        "      test_rul_array = np.asarray(test_rul_list).astype(np.float32)\n",
        "      length_rul = len(test_rul_array) // self.batch_size\n",
        "\n",
        "      return test_feature_array[:length_test*self.batch_size], test_rul_array[:length_rul*self.batch_size]\n",
        ""
      ],
      "metadata": {
        "id": "vl0j4PZeacwz"
      },
      "execution_count": 3,
      "outputs": []
    },
    {
      "cell_type": "code",
      "source": [
        "sequence_length=32\n",
        "batch_size=32\n",
        "epochs=1000\n",
        "\n",
        "datasets = CMAPSSDataset(fd_number='4', batch_size=batch_size, sequence_length=sequence_length)\n",
        "\n",
        "train_data = datasets.get_train_data()\n",
        "train_feature_slice = datasets.get_feature_slice(train_data)\n",
        "train_rul_slice = datasets.get_label_slice(train_data)\n",
        "print(\"train_data.shape: {}\".format(train_data.shape))\n",
        "print(\"train_feature_slice.shape: {}\".format(train_feature_slice.shape))\n",
        "print(\"train_rul_slice.shape: {}\".format(train_rul_slice.shape))\n",
        "\n",
        "test_data = datasets.get_test_data()\n",
        "test_feature_slice, test_rul_slice = datasets.get_last_data_slice(test_data)\n",
        "print(\"test_data.shape: {}\".format(test_data.shape))\n",
        "print(\"test_feature_slice.shape: {}\".format(test_feature_slice.shape))\n",
        "print(\"test_rul_slice.shape: {}\".format(test_rul_slice.shape))\n",
        "\n",
        "timesteps = train_feature_slice.shape[1]\n",
        "nb_features = train_feature_slice.shape[2]"
      ],
      "metadata": {
        "colab": {
          "base_uri": "https://localhost:8080/"
        },
        "id": "ppmvH6cf5kAJ",
        "outputId": "eca09c39-c2f3-49d3-d929-808f33d45f83"
      },
      "execution_count": 4,
      "outputs": [
        {
          "output_type": "stream",
          "name": "stdout",
          "text": [
            "train_data.shape: (61249, 28)\n",
            "train_feature_slice.shape: (53280, 32, 25)\n",
            "train_rul_slice.shape: (53280, 1)\n",
            "test_data.shape: (41214, 30)\n",
            "test_feature_slice.shape: (224, 32, 25)\n",
            "test_rul_slice.shape: (224, 1)\n"
          ]
        }
      ]
    },
    {
      "cell_type": "code",
      "source": [
        "model = Sequential()\n",
        "model.add(LSTM(input_shape=(timesteps, nb_features), units=64, return_sequences=True, name=\"lstm_0\"))\n",
        "model.add(Dropout(0.2, name=\"dropout_0\"))\n",
        "model.add(LSTM(units=64, return_sequences=False, name=\"lstm_1\"))\n",
        "model.add(Dropout(0.2, name=\"dropout_1\"))\n",
        "# model.add(LSTM(units=25, return_sequences=False, name=\"lstm_2\"))\n",
        "# model.add(Dropout(0.2, name=\"dropout_2\"))\n",
        "model.add(Dense(units=8, name=\"dense_0\"))\n",
        "model.add(Activation(\"relu\", name=\"activation_0\"))\n",
        "model.add(Dropout(0.2, name=\"dropout_2\"))\n",
        "model.add(Dense(units=8, name=\"dense_1\"))\n",
        "model.add(Activation(\"relu\", name=\"activation_1\"))\n",
        "model.add(Dropout(0.2, name=\"dropout_3\"))\n",
        "model.add(Dense(units=1, name=\"dense_2\"))\n",
        "model.add(Activation(\"linear\", name=\"activation_2\"))\n",
        "model.compile(loss='mse', optimizer='rmsprop', metrics=['mae'])\n",
        "print(model.summary())"
      ],
      "metadata": {
        "colab": {
          "base_uri": "https://localhost:8080/",
          "height": 530
        },
        "id": "20k9L68s_nWU",
        "outputId": "e1c62879-54fe-4b2a-90cd-fb709c39d6c5"
      },
      "execution_count": 29,
      "outputs": [
        {
          "output_type": "display_data",
          "data": {
            "text/plain": [
              "\u001b[1mModel: \"sequential_6\"\u001b[0m\n"
            ],
            "text/html": [
              "<pre style=\"white-space:pre;overflow-x:auto;line-height:normal;font-family:Menlo,'DejaVu Sans Mono',consolas,'Courier New',monospace\"><span style=\"font-weight: bold\">Model: \"sequential_6\"</span>\n",
              "</pre>\n"
            ]
          },
          "metadata": {}
        },
        {
          "output_type": "display_data",
          "data": {
            "text/plain": [
              "┏━━━━━━━━━━━━━━━━━━━━━━━━━━━━━━━━━━━━━━┳━━━━━━━━━━━━━━━━━━━━━━━━━━━━━┳━━━━━━━━━━━━━━━━━┓\n",
              "┃\u001b[1m \u001b[0m\u001b[1mLayer (type)                        \u001b[0m\u001b[1m \u001b[0m┃\u001b[1m \u001b[0m\u001b[1mOutput Shape               \u001b[0m\u001b[1m \u001b[0m┃\u001b[1m \u001b[0m\u001b[1m        Param #\u001b[0m\u001b[1m \u001b[0m┃\n",
              "┡━━━━━━━━━━━━━━━━━━━━━━━━━━━━━━━━━━━━━━╇━━━━━━━━━━━━━━━━━━━━━━━━━━━━━╇━━━━━━━━━━━━━━━━━┩\n",
              "│ lstm_0 (\u001b[38;5;33mLSTM\u001b[0m)                        │ (\u001b[38;5;45mNone\u001b[0m, \u001b[38;5;34m32\u001b[0m, \u001b[38;5;34m64\u001b[0m)              │          \u001b[38;5;34m23,040\u001b[0m │\n",
              "├──────────────────────────────────────┼─────────────────────────────┼─────────────────┤\n",
              "│ dropout_0 (\u001b[38;5;33mDropout\u001b[0m)                  │ (\u001b[38;5;45mNone\u001b[0m, \u001b[38;5;34m32\u001b[0m, \u001b[38;5;34m64\u001b[0m)              │               \u001b[38;5;34m0\u001b[0m │\n",
              "├──────────────────────────────────────┼─────────────────────────────┼─────────────────┤\n",
              "│ lstm_1 (\u001b[38;5;33mLSTM\u001b[0m)                        │ (\u001b[38;5;45mNone\u001b[0m, \u001b[38;5;34m64\u001b[0m)                  │          \u001b[38;5;34m33,024\u001b[0m │\n",
              "├──────────────────────────────────────┼─────────────────────────────┼─────────────────┤\n",
              "│ dropout_1 (\u001b[38;5;33mDropout\u001b[0m)                  │ (\u001b[38;5;45mNone\u001b[0m, \u001b[38;5;34m64\u001b[0m)                  │               \u001b[38;5;34m0\u001b[0m │\n",
              "├──────────────────────────────────────┼─────────────────────────────┼─────────────────┤\n",
              "│ dense_0 (\u001b[38;5;33mDense\u001b[0m)                      │ (\u001b[38;5;45mNone\u001b[0m, \u001b[38;5;34m8\u001b[0m)                   │             \u001b[38;5;34m520\u001b[0m │\n",
              "├──────────────────────────────────────┼─────────────────────────────┼─────────────────┤\n",
              "│ activation_0 (\u001b[38;5;33mActivation\u001b[0m)            │ (\u001b[38;5;45mNone\u001b[0m, \u001b[38;5;34m8\u001b[0m)                   │               \u001b[38;5;34m0\u001b[0m │\n",
              "├──────────────────────────────────────┼─────────────────────────────┼─────────────────┤\n",
              "│ dropout_2 (\u001b[38;5;33mDropout\u001b[0m)                  │ (\u001b[38;5;45mNone\u001b[0m, \u001b[38;5;34m8\u001b[0m)                   │               \u001b[38;5;34m0\u001b[0m │\n",
              "├──────────────────────────────────────┼─────────────────────────────┼─────────────────┤\n",
              "│ dense_1 (\u001b[38;5;33mDense\u001b[0m)                      │ (\u001b[38;5;45mNone\u001b[0m, \u001b[38;5;34m8\u001b[0m)                   │              \u001b[38;5;34m72\u001b[0m │\n",
              "├──────────────────────────────────────┼─────────────────────────────┼─────────────────┤\n",
              "│ activation_1 (\u001b[38;5;33mActivation\u001b[0m)            │ (\u001b[38;5;45mNone\u001b[0m, \u001b[38;5;34m8\u001b[0m)                   │               \u001b[38;5;34m0\u001b[0m │\n",
              "├──────────────────────────────────────┼─────────────────────────────┼─────────────────┤\n",
              "│ dropout_3 (\u001b[38;5;33mDropout\u001b[0m)                  │ (\u001b[38;5;45mNone\u001b[0m, \u001b[38;5;34m8\u001b[0m)                   │               \u001b[38;5;34m0\u001b[0m │\n",
              "├──────────────────────────────────────┼─────────────────────────────┼─────────────────┤\n",
              "│ dense_2 (\u001b[38;5;33mDense\u001b[0m)                      │ (\u001b[38;5;45mNone\u001b[0m, \u001b[38;5;34m1\u001b[0m)                   │               \u001b[38;5;34m9\u001b[0m │\n",
              "├──────────────────────────────────────┼─────────────────────────────┼─────────────────┤\n",
              "│ activation_2 (\u001b[38;5;33mActivation\u001b[0m)            │ (\u001b[38;5;45mNone\u001b[0m, \u001b[38;5;34m1\u001b[0m)                   │               \u001b[38;5;34m0\u001b[0m │\n",
              "└──────────────────────────────────────┴─────────────────────────────┴─────────────────┘\n"
            ],
            "text/html": [
              "<pre style=\"white-space:pre;overflow-x:auto;line-height:normal;font-family:Menlo,'DejaVu Sans Mono',consolas,'Courier New',monospace\">┏━━━━━━━━━━━━━━━━━━━━━━━━━━━━━━━━━━━━━━┳━━━━━━━━━━━━━━━━━━━━━━━━━━━━━┳━━━━━━━━━━━━━━━━━┓\n",
              "┃<span style=\"font-weight: bold\"> Layer (type)                         </span>┃<span style=\"font-weight: bold\"> Output Shape                </span>┃<span style=\"font-weight: bold\">         Param # </span>┃\n",
              "┡━━━━━━━━━━━━━━━━━━━━━━━━━━━━━━━━━━━━━━╇━━━━━━━━━━━━━━━━━━━━━━━━━━━━━╇━━━━━━━━━━━━━━━━━┩\n",
              "│ lstm_0 (<span style=\"color: #0087ff; text-decoration-color: #0087ff\">LSTM</span>)                        │ (<span style=\"color: #00d7ff; text-decoration-color: #00d7ff\">None</span>, <span style=\"color: #00af00; text-decoration-color: #00af00\">32</span>, <span style=\"color: #00af00; text-decoration-color: #00af00\">64</span>)              │          <span style=\"color: #00af00; text-decoration-color: #00af00\">23,040</span> │\n",
              "├──────────────────────────────────────┼─────────────────────────────┼─────────────────┤\n",
              "│ dropout_0 (<span style=\"color: #0087ff; text-decoration-color: #0087ff\">Dropout</span>)                  │ (<span style=\"color: #00d7ff; text-decoration-color: #00d7ff\">None</span>, <span style=\"color: #00af00; text-decoration-color: #00af00\">32</span>, <span style=\"color: #00af00; text-decoration-color: #00af00\">64</span>)              │               <span style=\"color: #00af00; text-decoration-color: #00af00\">0</span> │\n",
              "├──────────────────────────────────────┼─────────────────────────────┼─────────────────┤\n",
              "│ lstm_1 (<span style=\"color: #0087ff; text-decoration-color: #0087ff\">LSTM</span>)                        │ (<span style=\"color: #00d7ff; text-decoration-color: #00d7ff\">None</span>, <span style=\"color: #00af00; text-decoration-color: #00af00\">64</span>)                  │          <span style=\"color: #00af00; text-decoration-color: #00af00\">33,024</span> │\n",
              "├──────────────────────────────────────┼─────────────────────────────┼─────────────────┤\n",
              "│ dropout_1 (<span style=\"color: #0087ff; text-decoration-color: #0087ff\">Dropout</span>)                  │ (<span style=\"color: #00d7ff; text-decoration-color: #00d7ff\">None</span>, <span style=\"color: #00af00; text-decoration-color: #00af00\">64</span>)                  │               <span style=\"color: #00af00; text-decoration-color: #00af00\">0</span> │\n",
              "├──────────────────────────────────────┼─────────────────────────────┼─────────────────┤\n",
              "│ dense_0 (<span style=\"color: #0087ff; text-decoration-color: #0087ff\">Dense</span>)                      │ (<span style=\"color: #00d7ff; text-decoration-color: #00d7ff\">None</span>, <span style=\"color: #00af00; text-decoration-color: #00af00\">8</span>)                   │             <span style=\"color: #00af00; text-decoration-color: #00af00\">520</span> │\n",
              "├──────────────────────────────────────┼─────────────────────────────┼─────────────────┤\n",
              "│ activation_0 (<span style=\"color: #0087ff; text-decoration-color: #0087ff\">Activation</span>)            │ (<span style=\"color: #00d7ff; text-decoration-color: #00d7ff\">None</span>, <span style=\"color: #00af00; text-decoration-color: #00af00\">8</span>)                   │               <span style=\"color: #00af00; text-decoration-color: #00af00\">0</span> │\n",
              "├──────────────────────────────────────┼─────────────────────────────┼─────────────────┤\n",
              "│ dropout_2 (<span style=\"color: #0087ff; text-decoration-color: #0087ff\">Dropout</span>)                  │ (<span style=\"color: #00d7ff; text-decoration-color: #00d7ff\">None</span>, <span style=\"color: #00af00; text-decoration-color: #00af00\">8</span>)                   │               <span style=\"color: #00af00; text-decoration-color: #00af00\">0</span> │\n",
              "├──────────────────────────────────────┼─────────────────────────────┼─────────────────┤\n",
              "│ dense_1 (<span style=\"color: #0087ff; text-decoration-color: #0087ff\">Dense</span>)                      │ (<span style=\"color: #00d7ff; text-decoration-color: #00d7ff\">None</span>, <span style=\"color: #00af00; text-decoration-color: #00af00\">8</span>)                   │              <span style=\"color: #00af00; text-decoration-color: #00af00\">72</span> │\n",
              "├──────────────────────────────────────┼─────────────────────────────┼─────────────────┤\n",
              "│ activation_1 (<span style=\"color: #0087ff; text-decoration-color: #0087ff\">Activation</span>)            │ (<span style=\"color: #00d7ff; text-decoration-color: #00d7ff\">None</span>, <span style=\"color: #00af00; text-decoration-color: #00af00\">8</span>)                   │               <span style=\"color: #00af00; text-decoration-color: #00af00\">0</span> │\n",
              "├──────────────────────────────────────┼─────────────────────────────┼─────────────────┤\n",
              "│ dropout_3 (<span style=\"color: #0087ff; text-decoration-color: #0087ff\">Dropout</span>)                  │ (<span style=\"color: #00d7ff; text-decoration-color: #00d7ff\">None</span>, <span style=\"color: #00af00; text-decoration-color: #00af00\">8</span>)                   │               <span style=\"color: #00af00; text-decoration-color: #00af00\">0</span> │\n",
              "├──────────────────────────────────────┼─────────────────────────────┼─────────────────┤\n",
              "│ dense_2 (<span style=\"color: #0087ff; text-decoration-color: #0087ff\">Dense</span>)                      │ (<span style=\"color: #00d7ff; text-decoration-color: #00d7ff\">None</span>, <span style=\"color: #00af00; text-decoration-color: #00af00\">1</span>)                   │               <span style=\"color: #00af00; text-decoration-color: #00af00\">9</span> │\n",
              "├──────────────────────────────────────┼─────────────────────────────┼─────────────────┤\n",
              "│ activation_2 (<span style=\"color: #0087ff; text-decoration-color: #0087ff\">Activation</span>)            │ (<span style=\"color: #00d7ff; text-decoration-color: #00d7ff\">None</span>, <span style=\"color: #00af00; text-decoration-color: #00af00\">1</span>)                   │               <span style=\"color: #00af00; text-decoration-color: #00af00\">0</span> │\n",
              "└──────────────────────────────────────┴─────────────────────────────┴─────────────────┘\n",
              "</pre>\n"
            ]
          },
          "metadata": {}
        },
        {
          "output_type": "display_data",
          "data": {
            "text/plain": [
              "\u001b[1m Total params: \u001b[0m\u001b[38;5;34m56,665\u001b[0m (221.35 KB)\n"
            ],
            "text/html": [
              "<pre style=\"white-space:pre;overflow-x:auto;line-height:normal;font-family:Menlo,'DejaVu Sans Mono',consolas,'Courier New',monospace\"><span style=\"font-weight: bold\"> Total params: </span><span style=\"color: #00af00; text-decoration-color: #00af00\">56,665</span> (221.35 KB)\n",
              "</pre>\n"
            ]
          },
          "metadata": {}
        },
        {
          "output_type": "display_data",
          "data": {
            "text/plain": [
              "\u001b[1m Trainable params: \u001b[0m\u001b[38;5;34m56,665\u001b[0m (221.35 KB)\n"
            ],
            "text/html": [
              "<pre style=\"white-space:pre;overflow-x:auto;line-height:normal;font-family:Menlo,'DejaVu Sans Mono',consolas,'Courier New',monospace\"><span style=\"font-weight: bold\"> Trainable params: </span><span style=\"color: #00af00; text-decoration-color: #00af00\">56,665</span> (221.35 KB)\n",
              "</pre>\n"
            ]
          },
          "metadata": {}
        },
        {
          "output_type": "display_data",
          "data": {
            "text/plain": [
              "\u001b[1m Non-trainable params: \u001b[0m\u001b[38;5;34m0\u001b[0m (0.00 B)\n"
            ],
            "text/html": [
              "<pre style=\"white-space:pre;overflow-x:auto;line-height:normal;font-family:Menlo,'DejaVu Sans Mono',consolas,'Courier New',monospace\"><span style=\"font-weight: bold\"> Non-trainable params: </span><span style=\"color: #00af00; text-decoration-color: #00af00\">0</span> (0.00 B)\n",
              "</pre>\n"
            ]
          },
          "metadata": {}
        },
        {
          "output_type": "stream",
          "name": "stdout",
          "text": [
            "None\n"
          ]
        }
      ]
    },
    {
      "cell_type": "code",
      "source": [
        "# log_filepath = \"tensorboard-logs\"\n",
        "# tb_cb = tf.keras.callbacks.TensorBoard(log_dir=log_filepath, write_images=1, histogram_freq=1)\n",
        "es_cb = tf.keras.callbacks.EarlyStopping(monitor='val_loss', min_delta=0.0, patience=10, verbose=0, mode='auto')\n",
        "\n",
        "# es_cb = keras.callbacks.EarlyStopping(monitor='val_loss', min_delta=0, patience=10, verbose=0, mode='min')\n",
        "# tb_cb = keras.callbacks.ModelCheckpoint(weights_save_path, monitor='val_loss', save_best_only=True, mode='min', verbose=0)"
      ],
      "metadata": {
        "id": "m1bWH5IbFnJA"
      },
      "execution_count": 30,
      "outputs": []
    },
    {
      "cell_type": "code",
      "source": [
        "history = model.fit(train_feature_slice, train_rul_slice,\n",
        "            batch_size = batch_size,\n",
        "            epochs = epochs,\n",
        "            validation_split=0.05,\n",
        "            verbose = 2,\n",
        "            callbacks = [es_cb])"
      ],
      "metadata": {
        "colab": {
          "base_uri": "https://localhost:8080/"
        },
        "id": "EcL9MldWbzq6",
        "outputId": "150c7b33-a781-4c92-cd4a-e017937950f1"
      },
      "execution_count": 31,
      "outputs": [
        {
          "output_type": "stream",
          "name": "stdout",
          "text": [
            "Epoch 1/1000\n",
            "1582/1582 - 64s - 40ms/step - loss: 6154.1465 - mae: 55.4225 - val_loss: 2433.8350 - val_mae: 38.9737\n",
            "Epoch 2/1000\n",
            "1582/1582 - 81s - 51ms/step - loss: 4178.7070 - mae: 45.5917 - val_loss: 2296.5012 - val_mae: 36.6794\n",
            "Epoch 3/1000\n",
            "1582/1582 - 81s - 51ms/step - loss: 3969.9421 - mae: 44.2043 - val_loss: 2655.0823 - val_mae: 40.5288\n",
            "Epoch 4/1000\n",
            "1582/1582 - 58s - 37ms/step - loss: 3742.4104 - mae: 42.7173 - val_loss: 2533.9612 - val_mae: 37.5584\n",
            "Epoch 5/1000\n",
            "1582/1582 - 82s - 52ms/step - loss: 3474.0940 - mae: 41.2294 - val_loss: 2490.3835 - val_mae: 36.9931\n",
            "Epoch 6/1000\n",
            "1582/1582 - 82s - 52ms/step - loss: 3195.3472 - mae: 39.4197 - val_loss: 2676.6296 - val_mae: 37.9629\n",
            "Epoch 7/1000\n",
            "1582/1582 - 58s - 37ms/step - loss: 2942.9795 - mae: 37.9139 - val_loss: 2631.1489 - val_mae: 38.7231\n",
            "Epoch 8/1000\n",
            "1582/1582 - 81s - 51ms/step - loss: 2701.6072 - mae: 36.3949 - val_loss: 2864.7664 - val_mae: 39.0734\n",
            "Epoch 9/1000\n",
            "1582/1582 - 56s - 35ms/step - loss: 2486.5764 - mae: 34.8231 - val_loss: 2562.7708 - val_mae: 37.0416\n",
            "Epoch 10/1000\n",
            "1582/1582 - 84s - 53ms/step - loss: 2302.6331 - mae: 33.6602 - val_loss: 2927.8728 - val_mae: 40.4660\n",
            "Epoch 11/1000\n",
            "1582/1582 - 84s - 53ms/step - loss: 2155.2942 - mae: 32.6122 - val_loss: 3029.9006 - val_mae: 39.2794\n",
            "Epoch 12/1000\n",
            "1582/1582 - 57s - 36ms/step - loss: 2032.9989 - mae: 31.4309 - val_loss: 3424.3203 - val_mae: 41.8877\n"
          ]
        }
      ]
    },
    {
      "cell_type": "code",
      "source": [
        "weights_save_path = 'vanilla-lstm-cmapss-weights_v0.keras'\n",
        "model.save(weights_save_path)"
      ],
      "metadata": {
        "id": "9rVJ7mnjHLhn"
      },
      "execution_count": 34,
      "outputs": []
    },
    {
      "cell_type": "code",
      "source": [
        "model = keras.saving.load_model(weights_save_path, custom_objects=None, compile=True, safe_mode=True)"
      ],
      "metadata": {
        "id": "rkKeuab6MK8z"
      },
      "execution_count": 7,
      "outputs": []
    },
    {
      "cell_type": "code",
      "source": [
        "y_pred = model.predict(test_feature_slice)\n",
        "y_truth = test_rul_slice"
      ],
      "metadata": {
        "colab": {
          "base_uri": "https://localhost:8080/"
        },
        "id": "xQQR9FBSjS3Z",
        "outputId": "8b9ba5cb-1c34-4ad3-e425-248d61a898a3"
      },
      "execution_count": 37,
      "outputs": [
        {
          "output_type": "stream",
          "name": "stdout",
          "text": [
            "\u001b[1m7/7\u001b[0m \u001b[32m━━━━━━━━━━━━━━━━━━━━\u001b[0m\u001b[37m\u001b[0m \u001b[1m0s\u001b[0m 13ms/step\n"
          ]
        }
      ]
    },
    {
      "cell_type": "code",
      "source": [
        "from sklearn.metrics import mean_squared_error as mse\n",
        "mse(y_pred, y_truth, squared=False)"
      ],
      "metadata": {
        "colab": {
          "base_uri": "https://localhost:8080/"
        },
        "id": "pQlXSbY8kmIU",
        "outputId": "9aef5065-ed48-45d8-c087-7b7ee24947ab"
      },
      "execution_count": 38,
      "outputs": [
        {
          "output_type": "execute_result",
          "data": {
            "text/plain": [
              "39.327206"
            ]
          },
          "metadata": {},
          "execution_count": 38
        }
      ]
    }
  ]
}